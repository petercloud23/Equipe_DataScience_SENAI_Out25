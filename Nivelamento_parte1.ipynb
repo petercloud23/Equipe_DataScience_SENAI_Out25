{
  "nbformat": 4,
  "nbformat_minor": 0,
  "metadata": {
    "colab": {
      "provenance": [],
      "authorship_tag": "ABX9TyOCDDEmfCYy+AwNx2+TsOcd",
      "include_colab_link": true
    },
    "kernelspec": {
      "name": "python3",
      "display_name": "Python 3"
    },
    "language_info": {
      "name": "python"
    }
  },
  "cells": [
    {
      "cell_type": "markdown",
      "metadata": {
        "id": "view-in-github",
        "colab_type": "text"
      },
      "source": [
        "<a href=\"https://colab.research.google.com/github/petercloud23/Equipe_DataScience_SENAI_Out25/blob/main/Nivelamento_parte1.ipynb\" target=\"_parent\"><img src=\"https://colab.research.google.com/assets/colab-badge.svg\" alt=\"Open In Colab\"/></a>"
      ]
    },
    {
      "cell_type": "markdown",
      "source": [
        "Fonte de códigos, imagens e textos: Fundamentos do Python 1 - CISCO Networking Academy"
      ],
      "metadata": {
        "id": "INu-lTrPLhfN"
      }
    },
    {
      "cell_type": "code",
      "source": [
        "a=float(input(\"Digite o primeiro número: \"))\n",
        "b=float(input(\"Digite o segundo número:\"))\n",
        "c=a+b\n",
        "print(c)\n",
        "print(\"O resultado da soma de\", a, \"e \", b, \"é = \", c)\n",
        "print(f\"O resultado da soma de {a} e {b} é = {c}\")\n",
        "print(\"O resultado da soma de {} e {} é = {}\".format(a,b,c))\n",
        "print(\"O resultado da soma de %f e %f é = %f\" %(a,b,c)) #int = %d ; str = %s\n",
        "print(\"O resultado da soma de \" + a + \"e \" + b + \"é = \" + c)"
      ],
      "metadata": {
        "id": "gtriFffoFm-3"
      },
      "execution_count": null,
      "outputs": []
    },
    {
      "cell_type": "code",
      "execution_count": null,
      "metadata": {
        "id": "bhwDO_lgAsNT"
      },
      "outputs": [],
      "source": [
        "print(\"Meu\", \"nome\", \"é=\", sep=\"_\",end=\"\")\n",
        "print(\"Monty\", \"Python.\", sep=\"*\", end=\"Olá\")"
      ]
    },
    {
      "cell_type": "code",
      "source": [
        "print(\"Meu\", \"nome\", \"é \\n\", sep=\"_\", end=\"=\")\n",
        "print(\"Monty\", \"Python.\", sep=\"*\", end=\"*\")"
      ],
      "metadata": {
        "id": "hC6UAta9A8SJ"
      },
      "execution_count": null,
      "outputs": []
    },
    {
      "cell_type": "code",
      "source": [
        "var1= 123\n",
        "var2= 'World'\n",
        "var3 = 3.14\n",
        "print(\"Hello to the %s %d and the float %f \" %(var2,var1, var3)) #%s é um marcador de posição para uma string (texto). %d é um marcador de posição para um número inteiro. %f é um marcador de posição para um número float."
      ],
      "metadata": {
        "id": "qdxQ8Ge1Dg0S"
      },
      "execution_count": null,
      "outputs": []
    },
    {
      "cell_type": "code",
      "source": [
        "'''\n",
        "Comentário de várias linhas\n",
        "linha 1\n",
        "linha 2\n",
        "linha 3\n",
        "'''\n",
        "8%4 #comentário de uma linha"
      ],
      "metadata": {
        "id": "rYLnBMuJXkU5"
      },
      "execution_count": null,
      "outputs": []
    },
    {
      "cell_type": "code",
      "source": [
        "print((5 * ((25 % 13) + 100) / (2 * 13)) // 2)\n",
        "    #(5*(12+100)/26)//2\n",
        "    #(5*112/26)//2\n",
        "    #(552/26)//2\n",
        "    #(21.0)//2\n",
        "    #10"
      ],
      "metadata": {
        "id": "8BFqIMsACE-y"
      },
      "execution_count": null,
      "outputs": []
    },
    {
      "cell_type": "code",
      "source": [
        "20//2"
      ],
      "metadata": {
        "id": "NfeHJkaZlGYJ"
      },
      "execution_count": null,
      "outputs": []
    },
    {
      "cell_type": "code",
      "source": [
        "x = 3\n",
        "x = x * 2\n",
        "print(x)"
      ],
      "metadata": {
        "id": "izgytXxuCUAA"
      },
      "execution_count": null,
      "outputs": []
    },
    {
      "cell_type": "code",
      "source": [
        "sheep = 2\n",
        "sheep = sheep + 1\n",
        "print(sheep)"
      ],
      "metadata": {
        "id": "cwgfRHr5CY2J"
      },
      "execution_count": null,
      "outputs": []
    },
    {
      "cell_type": "code",
      "source": [
        "x *= 2 # x = x*2\n",
        "sheep += 1 # sheep = sheep + 1\n",
        "print(x)\n",
        "print(sheep)"
      ],
      "metadata": {
        "id": "8g0MQe8SCVLR"
      },
      "execution_count": null,
      "outputs": []
    },
    {
      "cell_type": "markdown",
      "source": [
        "Desafio troca de variáveis"
      ],
      "metadata": {
        "id": "ssLsJBH_g2Jj"
      }
    },
    {
      "cell_type": "code",
      "source": [
        "a=int(input(\"Digite o valor de a: \"))\n",
        "b=int(input(\"Digite o valor de b: \"))\n",
        "c=a\n",
        "a=b\n",
        "b=c\n",
        "print(\"o valor da variável a é:\", a)\n",
        "print(\"o valor da variável b é:\", b)"
      ],
      "metadata": {
        "colab": {
          "base_uri": "https://localhost:8080/"
        },
        "id": "IsdYLSp1g41S",
        "outputId": "803af01f-3d5c-430e-86dc-c04f198ae8a7"
      },
      "execution_count": 14,
      "outputs": [
        {
          "output_type": "stream",
          "name": "stdout",
          "text": [
            "Digite o valor de a: 1\n",
            "Digite o valor de b: 2\n",
            "o valor da variável a é: 2\n",
            "o valor da variável b é: 1\n"
          ]
        }
      ]
    },
    {
      "cell_type": "code",
      "source": [
        "x,y=1,2\n",
        "print(x)\n",
        "print(y)"
      ],
      "metadata": {
        "colab": {
          "base_uri": "https://localhost:8080/"
        },
        "id": "AKBav16li5nz",
        "outputId": "24ff2eda-057c-4fc5-f0e0-838c6e87089f"
      },
      "execution_count": 15,
      "outputs": [
        {
          "output_type": "stream",
          "name": "stdout",
          "text": [
            "1\n",
            "2\n"
          ]
        }
      ]
    },
    {
      "cell_type": "code",
      "source": [
        "a=int(input(\"Digite o valor de a: \"))\n",
        "b=int(input(\"Digite o valor de b: \"))\n",
        "a,b=b,a\n",
        "print(\"o valor da variável a é:\", a)\n",
        "print(\"o valor da variável b é:\", b)"
      ],
      "metadata": {
        "colab": {
          "base_uri": "https://localhost:8080/"
        },
        "id": "nh98YQWIix7L",
        "outputId": "50ec8db1-3039-431e-c0dd-4ad98e3c03f2"
      },
      "execution_count": 16,
      "outputs": [
        {
          "output_type": "stream",
          "name": "stdout",
          "text": [
            "Digite o valor de a: 22\n",
            "Digite o valor de b: 33\n",
            "o valor da variável a é: 33\n",
            "o valor da variável b é: 22\n"
          ]
        }
      ]
    }
  ]
}