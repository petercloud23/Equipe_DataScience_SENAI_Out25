{
  "nbformat": 4,
  "nbformat_minor": 0,
  "metadata": {
    "colab": {
      "provenance": [],
      "authorship_tag": "ABX9TyNx0Irg/o+dxhxWWpf0iRLi",
      "include_colab_link": true
    },
    "kernelspec": {
      "name": "python3",
      "display_name": "Python 3"
    },
    "language_info": {
      "name": "python"
    }
  },
  "cells": [
    {
      "cell_type": "markdown",
      "metadata": {
        "id": "view-in-github",
        "colab_type": "text"
      },
      "source": [
        "<a href=\"https://colab.research.google.com/github/petercloud23/Equipe_DataScience_SENAI_Out25/blob/main/Secao2.ipynb\" target=\"_parent\"><img src=\"https://colab.research.google.com/assets/colab-badge.svg\" alt=\"Open In Colab\"/></a>"
      ]
    },
    {
      "cell_type": "markdown",
      "source": [
        "Fonte de códigos, imagens e textos: Fundamentos do Python 1 - CISCO Networking Academy"
      ],
      "metadata": {
        "id": "INu-lTrPLhfN"
      }
    },
    {
      "cell_type": "code",
      "execution_count": null,
      "metadata": {
        "colab": {
          "base_uri": "https://localhost:8080/"
        },
        "id": "bhwDO_lgAsNT",
        "outputId": "387d7251-4f0e-45c7-c492-bed19b64adae"
      },
      "outputs": [
        {
          "output_type": "stream",
          "name": "stdout",
          "text": [
            "Meu_nome_é=Monty*Python.Olá"
          ]
        }
      ],
      "source": [
        "print(\"Meu\", \"nome\", \"é=\", sep=\"_\",end=\"\")\n",
        "print(\"Monty\", \"Python.\", sep=\"*\", end=\"Olá\")"
      ]
    },
    {
      "cell_type": "code",
      "source": [
        "print(\"Meu\", \"nome\", \"é \\n\", sep=\"_\", end=\"=\")\n",
        "print(\"Monty\", \"Python.\", sep=\"*\", end=\"*\")"
      ],
      "metadata": {
        "colab": {
          "base_uri": "https://localhost:8080/"
        },
        "id": "hC6UAta9A8SJ",
        "outputId": "59665097-a903-4e3a-9f3a-c41ba730863d"
      },
      "execution_count": null,
      "outputs": [
        {
          "output_type": "stream",
          "name": "stdout",
          "text": [
            "Meu_nome_é \n",
            "=Monty*Python.*"
          ]
        }
      ]
    },
    {
      "cell_type": "code",
      "source": [
        "var1= 123\n",
        "var2= 'World'\n",
        "var3 = 3.14\n",
        "print(\"Hello to the %s %d and the float %f \" %(var2,var1, var3)) #%s é um marcador de posição para uma string (texto). %d é um marcador de posição para um número inteiro. %f é um marcador de posição para um número float."
      ],
      "metadata": {
        "colab": {
          "base_uri": "https://localhost:8080/"
        },
        "id": "qdxQ8Ge1Dg0S",
        "outputId": "3d0c0087-5a90-4db4-d392-083bb847bb36"
      },
      "execution_count": null,
      "outputs": [
        {
          "output_type": "stream",
          "name": "stdout",
          "text": [
            "Hello to the World 123 and the float 3.140000 \n"
          ]
        }
      ]
    },
    {
      "cell_type": "code",
      "source": [
        "print((5 * ((25 % 13) + 100) / (2 * 13)) // 2)\n",
        "    #(5*(12+100)/26)//2\n",
        "    #(5*112/26)//2\n",
        "    #(552/26)//2\n",
        "    #(21.0)//2\n",
        "    #10"
      ],
      "metadata": {
        "colab": {
          "base_uri": "https://localhost:8080/"
        },
        "id": "8BFqIMsACE-y",
        "outputId": "a9dd3e1d-1bb5-4452-9dd3-1f91bbca2394"
      },
      "execution_count": null,
      "outputs": [
        {
          "output_type": "stream",
          "name": "stdout",
          "text": [
            "10.0\n"
          ]
        }
      ]
    },
    {
      "cell_type": "code",
      "source": [
        "20//2"
      ],
      "metadata": {
        "colab": {
          "base_uri": "https://localhost:8080/"
        },
        "id": "NfeHJkaZlGYJ",
        "outputId": "fd4bbf37-c15a-49fd-d6a1-e336e98f5e2e"
      },
      "execution_count": null,
      "outputs": [
        {
          "output_type": "execute_result",
          "data": {
            "text/plain": [
              "10"
            ]
          },
          "metadata": {},
          "execution_count": 16
        }
      ]
    },
    {
      "cell_type": "code",
      "source": [
        "x = 3\n",
        "x = x * 2\n",
        "print(x)"
      ],
      "metadata": {
        "colab": {
          "base_uri": "https://localhost:8080/"
        },
        "id": "izgytXxuCUAA",
        "outputId": "58233df0-90fe-476e-d10e-fd145b570750"
      },
      "execution_count": null,
      "outputs": [
        {
          "output_type": "stream",
          "name": "stdout",
          "text": [
            "6\n"
          ]
        }
      ]
    },
    {
      "cell_type": "code",
      "source": [
        "sheep = 2\n",
        "sheep = sheep + 1\n",
        "print(sheep)"
      ],
      "metadata": {
        "colab": {
          "base_uri": "https://localhost:8080/"
        },
        "id": "cwgfRHr5CY2J",
        "outputId": "c205dadb-7b24-48f8-94b7-4c6a66926c0a"
      },
      "execution_count": null,
      "outputs": [
        {
          "output_type": "stream",
          "name": "stdout",
          "text": [
            "3\n"
          ]
        }
      ]
    },
    {
      "cell_type": "code",
      "source": [
        "x *= 2 # x = x*2\n",
        "sheep += 1 # sheep = sheep + 1\n",
        "print(x)\n",
        "print(sheep)"
      ],
      "metadata": {
        "colab": {
          "base_uri": "https://localhost:8080/"
        },
        "id": "8g0MQe8SCVLR",
        "outputId": "f7e277ec-a973-4670-cbc4-c98f4e656370"
      },
      "execution_count": null,
      "outputs": [
        {
          "output_type": "stream",
          "name": "stdout",
          "text": [
            "12\n",
            "4\n"
          ]
        }
      ]
    }
  ]
}