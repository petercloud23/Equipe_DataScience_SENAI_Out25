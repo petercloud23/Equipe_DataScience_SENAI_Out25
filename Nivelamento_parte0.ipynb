{
  "nbformat": 4,
  "nbformat_minor": 0,
  "metadata": {
    "colab": {
      "provenance": [],
      "include_colab_link": true
    },
    "kernelspec": {
      "name": "python3",
      "display_name": "Python 3"
    },
    "language_info": {
      "name": "python"
    }
  },
  "cells": [
    {
      "cell_type": "markdown",
      "metadata": {
        "id": "view-in-github",
        "colab_type": "text"
      },
      "source": [
        "<a href=\"https://colab.research.google.com/github/petercloud23/Equipe_DataScience_SENAI_Out25/blob/main/Nivelamento_parte0.ipynb\" target=\"_parent\"><img src=\"https://colab.research.google.com/assets/colab-badge.svg\" alt=\"Open In Colab\"/></a>"
      ]
    },
    {
      "cell_type": "markdown",
      "source": [
        "Para um melhor aproveitamento de seus estudos, desabilite a 'Assistência de IA' nas Configurações do Colab\n",
        "*************************************"
      ],
      "metadata": {
        "id": "h7AcaEWUnncb"
      }
    },
    {
      "cell_type": "markdown",
      "source": [
        "CONTEÚDO DO SLIDE NA PRÁTICA:"
      ],
      "metadata": {
        "id": "pU4w6acgdz2m"
      }
    },
    {
      "cell_type": "code",
      "execution_count": null,
      "metadata": {
        "id": "kGRAWIB5Z-4e"
      },
      "outputs": [],
      "source": [
        "texto=2 #Declaração implícita de str (aqui '2' não é considerado um número para o interpretador Python, ou seja, não será possível realizar operações matemáticas com essa variável)\n",
        "texto1= str(2) #Declaração explícita de variável do tipo str\n",
        "texto2 = 2.7#Declaração implícita de variável"
      ]
    },
    {
      "cell_type": "code",
      "source": [
        "type(texto)"
      ],
      "metadata": {
        "colab": {
          "base_uri": "https://localhost:8080/"
        },
        "id": "9i5-YFRAC9iK",
        "outputId": "e79ce194-0414-44e9-a625-82d3aeaafc3e"
      },
      "execution_count": null,
      "outputs": [
        {
          "output_type": "execute_result",
          "data": {
            "text/plain": [
              "str"
            ]
          },
          "metadata": {},
          "execution_count": 3
        }
      ]
    },
    {
      "cell_type": "code",
      "source": [
        "print(texto)\n",
        "print(texto1)\n",
        "print(texto+texto1)"
      ],
      "metadata": {
        "colab": {
          "base_uri": "https://localhost:8080/"
        },
        "id": "ejaZ5u6SbGO_",
        "outputId": "6d61b52d-2fea-406b-bd10-6fcf3e2f3a90"
      },
      "execution_count": null,
      "outputs": [
        {
          "output_type": "stream",
          "name": "stdout",
          "text": [
            "2\n",
            "2\n",
            "4\n"
          ]
        }
      ]
    },
    {
      "cell_type": "code",
      "source": [
        "numero= 3 #declaração implícita de int\n",
        "numero1= int(3) #declaração explícita de int\n",
        "mumero2= float(3) #declaração explícita de float\n",
        "numero3= 3.0 #declaração implícita de float (para casa decimais utilizamos ponto e não vírgula)"
      ],
      "metadata": {
        "id": "rRSKUduKbI_1"
      },
      "execution_count": null,
      "outputs": []
    },
    {
      "cell_type": "code",
      "source": [
        "print(numero)\n",
        "print(numero1)\n",
        "print(mumero2)\n",
        "print(numero3)"
      ],
      "metadata": {
        "colab": {
          "base_uri": "https://localhost:8080/"
        },
        "id": "fGSEP2Gzbqwg",
        "outputId": "5e96296a-5589-4b1e-eeb9-1ac38194621d"
      },
      "execution_count": null,
      "outputs": [
        {
          "output_type": "stream",
          "name": "stdout",
          "text": [
            "3\n",
            "3\n",
            "3.0\n",
            "3.0\n"
          ]
        }
      ]
    },
    {
      "cell_type": "code",
      "source": [
        "nome= input(\"Digite um número inteiro: \")\n",
        "numero=int(nome) #o espaço que desejar na frase impressa na tela deve ser adicionado entre as aspas do texto\n",
        "print(\"O nº é: %d que veio da literal %s\" %(nome,numero))"
      ],
      "metadata": {
        "colab": {
          "base_uri": "https://localhost:8080/",
          "height": 215
        },
        "id": "W-XVgRvzcT7G",
        "outputId": "db30a23a-857c-414e-a3c7-60796e33a211"
      },
      "execution_count": null,
      "outputs": [
        {
          "name": "stdout",
          "output_type": "stream",
          "text": [
            "Digite um número inteiro: 10\n"
          ]
        },
        {
          "output_type": "error",
          "ename": "TypeError",
          "evalue": "%d format: a real number is required, not str",
          "traceback": [
            "\u001b[0;31m---------------------------------------------------------------------------\u001b[0m",
            "\u001b[0;31mTypeError\u001b[0m                                 Traceback (most recent call last)",
            "\u001b[0;32m/tmp/ipython-input-1278953653.py\u001b[0m in \u001b[0;36m<cell line: 0>\u001b[0;34m()\u001b[0m\n\u001b[1;32m      1\u001b[0m \u001b[0mnome\u001b[0m\u001b[0;34m=\u001b[0m \u001b[0minput\u001b[0m\u001b[0;34m(\u001b[0m\u001b[0;34m\"Digite um número inteiro: \"\u001b[0m\u001b[0;34m)\u001b[0m\u001b[0;34m\u001b[0m\u001b[0;34m\u001b[0m\u001b[0m\n\u001b[1;32m      2\u001b[0m \u001b[0mnumero\u001b[0m\u001b[0;34m=\u001b[0m\u001b[0mint\u001b[0m\u001b[0;34m(\u001b[0m\u001b[0mnome\u001b[0m\u001b[0;34m)\u001b[0m \u001b[0;31m#o espaço que desejar na frase impressa na tela deve ser adicionado entre as aspas do texto\u001b[0m\u001b[0;34m\u001b[0m\u001b[0;34m\u001b[0m\u001b[0m\n\u001b[0;32m----> 3\u001b[0;31m \u001b[0mprint\u001b[0m\u001b[0;34m(\u001b[0m\u001b[0;34m\"O nº é: %d que veio da literal %s\"\u001b[0m \u001b[0;34m%\u001b[0m\u001b[0;34m(\u001b[0m\u001b[0mnome\u001b[0m\u001b[0;34m,\u001b[0m\u001b[0mnumero\u001b[0m\u001b[0;34m)\u001b[0m\u001b[0;34m)\u001b[0m\u001b[0;34m\u001b[0m\u001b[0;34m\u001b[0m\u001b[0m\n\u001b[0m",
            "\u001b[0;31mTypeError\u001b[0m: %d format: a real number is required, not str"
          ]
        }
      ]
    },
    {
      "cell_type": "code",
      "source": [
        "valor_uni= float(input(\"Informe o valor unitário: \"))\n",
        "quantidade= int(input(\"Informe a quantidade de produtos: \"))\n",
        "valor_total = valor_uni*quantidade\n",
        "print(\"O total da compra é:\", round(valor_total))"
      ],
      "metadata": {
        "colab": {
          "base_uri": "https://localhost:8080/"
        },
        "id": "fColSL2ycd41",
        "outputId": "28e2fe50-2ad0-42aa-aef4-81bc4fa726e9"
      },
      "execution_count": null,
      "outputs": [
        {
          "output_type": "stream",
          "name": "stdout",
          "text": [
            "Informe o valor unitário: 12.2\n",
            "Informe a quantidade de produtos: 3\n",
            "O total da compra é: 37\n"
          ]
        }
      ]
    },
    {
      "cell_type": "code",
      "source": [
        "valor_uni= float(input(\"Informe o valor unitário: \"))\n",
        "quantidade= int(input(\"Informe a quantidade de produtos: \"))\n",
        "valor_total = valor_uni*quantidade\n",
        "print(\"O total da compra é: \", valor_total)"
      ],
      "metadata": {
        "id": "ba_pFMXcHIGE"
      },
      "execution_count": null,
      "outputs": []
    },
    {
      "cell_type": "code",
      "source": [
        "#uma forma mais adequada está abaixo, pois preservamos em uma variável o valor da compra para consultas futuras:\n",
        "valor_total= valor_uni*quantidade\n",
        "print(\"O total da compra é: \", valor_total)"
      ],
      "metadata": {
        "colab": {
          "base_uri": "https://localhost:8080/"
        },
        "id": "PjhkC_zmdAed",
        "outputId": "1fdf802c-8a67-4f9f-c0df-a8a8e8a4d849"
      },
      "execution_count": null,
      "outputs": [
        {
          "output_type": "stream",
          "name": "stdout",
          "text": [
            "O total da compra é:  14.16\n"
          ]
        }
      ]
    },
    {
      "cell_type": "markdown",
      "source": [
        "SEÇÃO \"VAMOS PRATICAR\""
      ],
      "metadata": {
        "id": "UKR36OhOdqA-"
      }
    },
    {
      "cell_type": "code",
      "source": [
        "'''1.\tCrie um programa para efetuar a leitura de um número inteiro e apresentar o resultado do quadrado deste número.'''\n",
        "numero= int(input(\"Informe um número inteiro: \"))\n",
        "quadrado= numero**2\n",
        "print(\"O quadrado do número informado é: \", quadrado)"
      ],
      "metadata": {
        "colab": {
          "base_uri": "https://localhost:8080/"
        },
        "id": "4bivxB5Hdw6-",
        "outputId": "ee8e4bb3-fff0-4ff4-8d75-5d1c9c1915e1"
      },
      "execution_count": null,
      "outputs": [
        {
          "output_type": "stream",
          "name": "stdout",
          "text": [
            "Informe um número inteiro: 2\n",
            "O quadrado do número informado é:  4\n"
          ]
        }
      ]
    },
    {
      "cell_type": "code",
      "source": [
        "#outra versão possível para o exercício acima seria utulizando a função da bilbioteca 'math' chamada 'mat.pow':\n",
        "import math\n",
        "\n",
        "numero1= int(input(\"Informe um número inteiro: \"))\n",
        "quadrado= math.pow(numero1,2) #onde mat.pow(base,expoente)\n",
        "print(\"O quadrado do número informado é: \", quadrado)"
      ],
      "metadata": {
        "colab": {
          "base_uri": "https://localhost:8080/"
        },
        "id": "F6H9JHfBeT9G",
        "outputId": "00d89dab-2f00-4b3e-d67e-793dbb3eceda"
      },
      "execution_count": null,
      "outputs": [
        {
          "output_type": "stream",
          "name": "stdout",
          "text": [
            "Informe um número inteiro: 3\n",
            "O quadrado do número informado é:  9.0\n"
          ]
        }
      ]
    },
    {
      "cell_type": "code",
      "source": [
        "print(pow(9,1/2))"
      ],
      "metadata": {
        "colab": {
          "base_uri": "https://localhost:8080/"
        },
        "id": "z9Rwzt4ie4Az",
        "outputId": "c8ec1107-9b8e-4125-9c79-9881e24861ca"
      },
      "execution_count": null,
      "outputs": [
        {
          "output_type": "stream",
          "name": "stdout",
          "text": [
            "3.0\n"
          ]
        }
      ]
    },
    {
      "cell_type": "code",
      "source": [
        "#'''Escreva um programa que leia dois caracteres e imprima-os na tela da seguinte forma: “O usuário digitou {caractere1} e {caractere2}!”.'''\n",
        "caractere1= input(\"Informe o primeiro caractere: \")\n",
        "caractere2= input(\"Informe o segundo caractere: \")\n",
        "print(\"O usuário digitou %s e %s!\" %(caractere1,caractere2))2"
      ],
      "metadata": {
        "colab": {
          "base_uri": "https://localhost:8080/"
        },
        "id": "2VIWgspffRyf",
        "outputId": "8d4e76ac-1d64-421c-fe2c-93ebfa1d6cdf"
      },
      "execution_count": null,
      "outputs": [
        {
          "output_type": "stream",
          "name": "stdout",
          "text": [
            "Informe o primeiro caractere: 12\n",
            "Informe o segundo caractere: 3\n",
            "O usuário digitou 12 e 3!\n"
          ]
        }
      ]
    },
    {
      "cell_type": "code",
      "source": [
        "'''Crie um programa que leia um número inteiro e imprimir seu sucessor e seu antecessor.'''\n",
        "numero= int(input(\"Informe um número inteiro: \"))\n",
        "print(\"O antecessor do número informado é: \", numero-1)\n",
        "print(\"O sucessor do número informado é: \", numero+1)\n"
      ],
      "metadata": {
        "colab": {
          "base_uri": "https://localhost:8080/"
        },
        "id": "fSuCU7jOfb5m",
        "outputId": "6f64a18d-4655-4b3d-a2bb-48660a33ff7f"
      },
      "execution_count": null,
      "outputs": [
        {
          "output_type": "stream",
          "name": "stdout",
          "text": [
            "Informe um número inteiro: 3\n",
            "O antecessor do número informado é:  2\n",
            "O sucessor do número informado é:  4\n"
          ]
        }
      ]
    },
    {
      "cell_type": "code",
      "source": [
        "'''Crie um programa para entrar com a base a altura de um retângulo e imprimir respectivamente o perímetro e a área correspondente.'''\n",
        "base= float(input(\"Informe a base do retângulo: \"))\n",
        "altura= float(input(\"Informe a altura do retângulo: \"))\n",
        "perimetro = 2 * (base + altura)\n",
        "area = base * altura\n",
        "print(f\"O perímetro do retângulo é: {perimetro}\")\n",
        "print(\"A área do retângulo é: %f\" %(area))"
      ],
      "metadata": {
        "colab": {
          "base_uri": "https://localhost:8080/"
        },
        "id": "v2M-QJfaflV-",
        "outputId": "fd2e7969-a85b-40d1-e17b-7d28b5209cb8"
      },
      "execution_count": null,
      "outputs": [
        {
          "output_type": "stream",
          "name": "stdout",
          "text": [
            "Informe a base do retângulo: 5\n",
            "Informe a altura do retângulo: 4\n",
            "O perímetro do retângulo é: 18.0\n",
            "A área do retângulo é: 20.000000\n"
          ]
        }
      ]
    },
    {
      "cell_type": "code",
      "source": [
        "'''Crie um programa que, dados o valor, a taxa e o tempo, efetuar o cálculo do valor de uma prestação em atraso, utilizando a fórmula:\n",
        "prestação = valor + (valor * (taxa/100) * tempo)'''\n",
        "valor= float(input(\"Informe o valor da prestação: \"))\n",
        "taxa= float(input(\"Informe a taxa de juros, sem o sinal %: \"))\n",
        "tempo= float(input(\"Informe o tempo de atraso em meses: \"))\n",
        "prestacao = valor + (valor * (taxa/100) * tempo)\n",
        "print(\"O valor da prestação em atraso é: \", prestacao)"
      ],
      "metadata": {
        "colab": {
          "base_uri": "https://localhost:8080/"
        },
        "id": "tI2AIqhjhDv_",
        "outputId": "8da1835f-9916-42bf-de63-8d3fae94d451"
      },
      "execution_count": null,
      "outputs": [
        {
          "output_type": "stream",
          "name": "stdout",
          "text": [
            "Informe o valor da prestação: 100\n",
            "Informe a taxa de juros, sem o sinal %: 10\n",
            "Informe o tempo de atraso em meses: 2\n",
            "O valor da prestação em atraso é:  120.0\n"
          ]
        }
      ]
    },
    {
      "cell_type": "code",
      "source": [
        "3%2\n"
      ],
      "metadata": {
        "colab": {
          "base_uri": "https://localhost:8080/"
        },
        "id": "DoB0VZal9OXe",
        "outputId": "cb81ab93-75f0-4844-f6d6-9596ad16f43f"
      },
      "execution_count": null,
      "outputs": [
        {
          "output_type": "execute_result",
          "data": {
            "text/plain": [
              "1"
            ]
          },
          "metadata": {},
          "execution_count": 6
        }
      ]
    },
    {
      "cell_type": "code",
      "source": [
        "3//2"
      ],
      "metadata": {
        "colab": {
          "base_uri": "https://localhost:8080/"
        },
        "id": "rA-1_Xsd9gna",
        "outputId": "c9930c94-5606-4c3e-a1fb-ce6454ddba8b"
      },
      "execution_count": null,
      "outputs": [
        {
          "output_type": "execute_result",
          "data": {
            "text/plain": [
              "1"
            ]
          },
          "metadata": {},
          "execution_count": 7
        }
      ]
    }
  ]
}