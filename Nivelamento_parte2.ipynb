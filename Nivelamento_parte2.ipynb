{
  "nbformat": 4,
  "nbformat_minor": 0,
  "metadata": {
    "colab": {
      "provenance": [],
      "authorship_tag": "ABX9TyNYs4cVTIf83pgofQ/0Sw1g",
      "include_colab_link": true
    },
    "kernelspec": {
      "name": "python3",
      "display_name": "Python 3"
    },
    "language_info": {
      "name": "python"
    }
  },
  "cells": [
    {
      "cell_type": "markdown",
      "metadata": {
        "id": "view-in-github",
        "colab_type": "text"
      },
      "source": [
        "<a href=\"https://colab.research.google.com/github/petercloud23/Equipe_DataScience_SENAI_Out25/blob/main/Nivelamento_parte2.ipynb\" target=\"_parent\"><img src=\"https://colab.research.google.com/assets/colab-badge.svg\" alt=\"Open In Colab\"/></a>"
      ]
    },
    {
      "cell_type": "markdown",
      "source": [
        "CONVERSÃO DE DADOS"
      ],
      "metadata": {
        "id": "7UpBMj21KeTH"
      }
    },
    {
      "cell_type": "code",
      "execution_count": null,
      "metadata": {
        "colab": {
          "base_uri": "https://localhost:8080/"
        },
        "id": "atNfpwsKJVUj",
        "outputId": "15478176-46c9-4ae9-cea6-cfc8c4e4f2c4"
      },
      "outputs": [
        {
          "output_type": "stream",
          "name": "stdout",
          "text": [
            "Informe o valor unitário: 12.56\n",
            "Informe a quantidade de produtos: 10\n",
            "O total da compra é:  125.60000000000001\n"
          ]
        }
      ],
      "source": [
        "'''\n",
        "Para converter o valor informado pelo usuário em um inteiro usamos a função int.\n",
        "Para converter em um valor com decimais usamos a função float.\n",
        "'''\n",
        "\n",
        "valor_uni= float(input(\"Informe o valor unitário: \"))\n",
        "quantidade= int(input(\"Informe a quantidade de produtos: \"))\n",
        "valor_total = valor_uni*quantidade\n",
        "print(\"O total da compra é: \", valor_total)"
      ]
    },
    {
      "cell_type": "code",
      "execution_count": null,
      "metadata": {
        "colab": {
          "base_uri": "https://localhost:8080/"
        },
        "outputId": "679bdd8a-d4fb-4884-d64e-8e15c0e1a931",
        "id": "osgrLXSnKCT_"
      },
      "outputs": [
        {
          "output_type": "stream",
          "name": "stdout",
          "text": [
            "Informe o valor unitário: 12.56\n",
            "Informe a quantidade de produtos: 10\n",
            "O total da compra é:  125.6\n"
          ]
        }
      ],
      "source": [
        "valor_uni= float(input(\"Informe o valor unitário: \"))\n",
        "quantidade= int(input(\"Informe a quantidade de produtos: \"))\n",
        "valor_total = valor_uni*quantidade\n",
        "valor_total_arred = round(valor_total,2)\n",
        "print(\"O total da compra é: \", valor_total_arred)"
      ]
    },
    {
      "cell_type": "markdown",
      "source": [
        "\"VAMOS PRATICAR\""
      ],
      "metadata": {
        "id": "UqEiT8muODOm"
      }
    },
    {
      "cell_type": "code",
      "source": [
        "'''1.\tCrie um programa para efetuar a leitura de um número inteiro e apresentar o resultado do quadrado deste número.'''\n",
        "numero= int(input(\"Informe um número inteiro: \"))\n",
        "quadrado= numero**2\n",
        "print(\"O quadrado do número informado é: \", quadrado)"
      ],
      "metadata": {
        "id": "4bivxB5Hdw6-",
        "colab": {
          "base_uri": "https://localhost:8080/"
        },
        "outputId": "00291c98-9468-4e30-8033-a4270d8d7c35"
      },
      "execution_count": 10,
      "outputs": [
        {
          "output_type": "stream",
          "name": "stdout",
          "text": [
            "Informe um número inteiro: 5\n",
            "O quadrado do número informado é:  25\n"
          ]
        }
      ]
    },
    {
      "cell_type": "code",
      "source": [
        "#outra versão possível para o exercício acima seria utulizando a função da bilbioteca 'math' chamada 'mat.pow':\n",
        "import math\n",
        "\n",
        "numero1= int(input(\"Informe um número inteiro: \"))\n",
        "quadrado1= math.pow(numero1,2) #onde mat.pow(base,expoente)\n",
        "print(\"O quadrado do número informado é: \", quadrado1)"
      ],
      "metadata": {
        "colab": {
          "base_uri": "https://localhost:8080/"
        },
        "id": "RZkyw1tKOLjG",
        "outputId": "d0fce932-79c3-4a7e-a9ac-2c47edd39cc6"
      },
      "execution_count": null,
      "outputs": [
        {
          "output_type": "stream",
          "name": "stdout",
          "text": [
            "Informe um número inteiro: 4\n",
            "O quadrado do número informado é:  16.0\n"
          ]
        }
      ]
    },
    {
      "cell_type": "code",
      "source": [
        "# para tirar raiz de um número, podemos usar o math.pow também\n",
        "# basta usar a regra matemática que a raiz de uma base é igual\n",
        "# a esta base elevada ao inverso do indíce da raiz (ex: raiz quadrada de 4)\n",
        "# é igual 4 elevado a 1/2:\n",
        "print(pow(4,1/2))"
      ],
      "metadata": {
        "id": "z9Rwzt4ie4Az",
        "colab": {
          "base_uri": "https://localhost:8080/"
        },
        "outputId": "6c9fa5a5-66b0-4791-966e-49ee5e5ec59e"
      },
      "execution_count": 14,
      "outputs": [
        {
          "output_type": "stream",
          "name": "stdout",
          "text": [
            "2.0\n"
          ]
        }
      ]
    },
    {
      "cell_type": "code",
      "source": [
        "'''2. Escreva um programa que leia dois caracteres e imprima-os na tela da seguinte forma: “O usuário digitou {caractere1} e {caractere2}!”.'''\n",
        "caractere1= input(\"Informe o primeiro caractere: \")\n",
        "caractere2= input(\"Informe o segundo caractere: \")\n",
        "print(\"O usuário digitou %s e %s!\" %(caractere1,caractere2))"
      ],
      "metadata": {
        "id": "2VIWgspffRyf",
        "colab": {
          "base_uri": "https://localhost:8080/"
        },
        "outputId": "913177e3-b421-4541-adc8-c01931741ab3"
      },
      "execution_count": 15,
      "outputs": [
        {
          "output_type": "stream",
          "name": "stdout",
          "text": [
            "Informe o primeiro caractere: teste\n",
            "Informe o segundo caractere: teste2\n",
            "O usuário digitou teste e teste2!\n"
          ]
        }
      ]
    },
    {
      "cell_type": "code",
      "source": [
        "'''3. Crie um programa que leia um número inteiro e imprimir seu sucessor e seu antecessor.'''\n",
        "numero= int(input(\"Informe um número inteiro: \"))\n",
        "antecessor= numero-1\n",
        "sucessor= numero+1\n",
        "print(\"O antecessor do número informado é: \", antecessor)\n",
        "print(\"O sucessor do número informado é: \", sucessor)\n"
      ],
      "metadata": {
        "id": "fSuCU7jOfb5m",
        "colab": {
          "base_uri": "https://localhost:8080/"
        },
        "outputId": "edf86d23-d4ce-4110-8067-acba534f4e5f"
      },
      "execution_count": 16,
      "outputs": [
        {
          "output_type": "stream",
          "name": "stdout",
          "text": [
            "Informe um número inteiro: 10\n",
            "O antecessor do número informado é:  9\n",
            "O sucessor do número informado é:  11\n"
          ]
        }
      ]
    },
    {
      "cell_type": "code",
      "source": [
        "'''4. Crie um programa para entrar com a base a altura de um retângulo e imprimir respectivamente o perímetro e a área correspondente.'''\n",
        "base= float(input(\"Informe a base do retângulo: \"))\n",
        "altura= float(input(\"Informe a altura do retângulo: \"))\n",
        "perimetro = 2 * (base + altura)\n",
        "area = base * altura\n",
        "print(f\"O perímetro do retângulo é: {perimetro}\")\n",
        "print(\"A área do retângulo é: %f\" %(area))"
      ],
      "metadata": {
        "id": "v2M-QJfaflV-",
        "colab": {
          "base_uri": "https://localhost:8080/"
        },
        "outputId": "d8d8f815-f667-47cc-a9b5-d45701c90b54"
      },
      "execution_count": 17,
      "outputs": [
        {
          "output_type": "stream",
          "name": "stdout",
          "text": [
            "Informe a base do retângulo: 3\n",
            "Informe a altura do retângulo: 4\n",
            "O perímetro do retângulo é: 14.0\n",
            "A área do retângulo é: 12.000000\n"
          ]
        }
      ]
    },
    {
      "cell_type": "code",
      "source": [
        "'''5. Crie um programa que, dados o valor, a taxa e o tempo, efetuar o cálculo do valor de uma prestação em atraso, utilizando a fórmula:\n",
        "prestação = valor + (valor * (taxa/100) * tempo)'''\n",
        "valor= float(input(\"Informe o valor da prestação: \"))\n",
        "taxa= float(input(\"Informe a taxa de juros, sem o sinal %: \"))\n",
        "tempo= float(input(\"Informe o tempo de atraso em meses: \"))\n",
        "prestacao = valor + (valor * (taxa/100) * tempo)\n",
        "print(\"O valor da prestação em atraso é: \", prestacao)"
      ],
      "metadata": {
        "id": "tI2AIqhjhDv_",
        "colab": {
          "base_uri": "https://localhost:8080/"
        },
        "outputId": "dd1bc126-366f-472d-927c-c088bc52eda1"
      },
      "execution_count": 18,
      "outputs": [
        {
          "output_type": "stream",
          "name": "stdout",
          "text": [
            "Informe o valor da prestação: 1000\n",
            "Informe a taxa de juros, sem o sinal %: 25\n",
            "Informe o tempo de atraso em meses: 3\n",
            "O valor da prestação em atraso é:  1750.0\n"
          ]
        }
      ]
    }
  ]
}