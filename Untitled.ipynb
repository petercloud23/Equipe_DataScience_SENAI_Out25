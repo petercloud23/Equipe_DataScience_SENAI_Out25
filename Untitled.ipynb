{
  "nbformat": 4,
  "nbformat_minor": 0,
  "metadata": {
    "colab": {
      "provenance": [],
      "authorship_tag": "ABX9TyPhIBOA0oIQ4io3cR13UMga",
      "include_colab_link": true
    },
    "kernelspec": {
      "name": "python3",
      "display_name": "Python 3"
    },
    "language_info": {
      "name": "python"
    }
  },
  "cells": [
    {
      "cell_type": "markdown",
      "metadata": {
        "id": "view-in-github",
        "colab_type": "text"
      },
      "source": [
        "<a href=\"https://colab.research.google.com/github/petercloud23/Equipe_DataScience_SENAI_Out25/blob/main/Untitled.ipynb\" target=\"_parent\"><img src=\"https://colab.research.google.com/assets/colab-badge.svg\" alt=\"Open In Colab\"/></a>"
      ]
    },
    {
      "cell_type": "code",
      "source": [
        "texto= 2\n",
        "texto1= int(2);\n",
        "texto2= 2.7"
      ],
      "metadata": {
        "id": "XKROujiA9Dat"
      },
      "execution_count": null,
      "outputs": []
    },
    {
      "cell_type": "code",
      "source": [
        "print(type(texto))"
      ],
      "metadata": {
        "id": "uHWzVHHsDaPZ"
      },
      "execution_count": null,
      "outputs": []
    },
    {
      "cell_type": "code",
      "source": [
        "print(texto)\n",
        "print(texto1)\n",
        "print(texto+texto1)"
      ],
      "metadata": {
        "id": "uhIHMYhJDlqh"
      },
      "execution_count": null,
      "outputs": []
    },
    {
      "cell_type": "code",
      "source": [
        "numero= 3\n",
        "numero1= int(3)\n",
        "numero2= float(3)\n",
        "numero3= 3.0\n",
        "\n",
        "print(numero)\n",
        "print(numero1)\n",
        "print(numero2)\n",
        "print(numero3)"
      ],
      "metadata": {
        "id": "gOkxV4btDtix"
      },
      "execution_count": null,
      "outputs": []
    },
    {
      "cell_type": "code",
      "source": [
        "a=float(input(\"Digite o Primeiro número: \"))\n",
        "b=float(input(\"Digite o segundo número: \"))\n",
        "c=a+b\n",
        "print(c)\n",
        "print(f\"O resultado da soma de {a} e {b} é = {c}\")\n",
        "print(\"O resultado da soma de {} e {} é = {}\".format(a,b,c))\n",
        "print(\"O resultado da soma de %f e %f é = %f\" %(a,b,c))\n",
        "print(\"O resultado de \"+ a + \"e\" + b + \"é =\" + c)\n"
      ],
      "metadata": {
        "id": "tk-s5sBCGGlp"
      },
      "execution_count": null,
      "outputs": []
    },
    {
      "cell_type": "code",
      "source": [
        "print(\"Meu\", \"nome\", \"é=\", sep=\"_\",end=\"\")\n",
        "print(\"Monty\", \"Python.\", sep=\"*\", end=\"Ola\")"
      ],
      "metadata": {
        "id": "4rLUepc0Jcz6"
      },
      "execution_count": null,
      "outputs": []
    },
    {
      "cell_type": "code",
      "source": [
        "print(\"Meu\", \"nome\", \"é \\n\", sep=\"_\", end=\"=\")\n",
        "print(\"Monty\", \"Python.\", sep=\"*\", end=\"*\")"
      ],
      "metadata": {
        "id": "sD8NUv_nUJsV"
      },
      "execution_count": null,
      "outputs": []
    },
    {
      "cell_type": "code",
      "source": [
        "x = 3\n",
        "x = x * 2\n",
        "print(x)"
      ],
      "metadata": {
        "id": "xAqdIqvYWa4N"
      },
      "execution_count": null,
      "outputs": []
    },
    {
      "cell_type": "code",
      "source": [
        "sheep = 2\n",
        "sheep = sheep = 1\n",
        "print(sheep)\n"
      ],
      "metadata": {
        "id": "0IICzk_nbDlS"
      },
      "execution_count": null,
      "outputs": []
    },
    {
      "cell_type": "code",
      "source": [
        "x *= 2\n",
        "sheep += 1\n",
        "print(x)\n",
        "print(sheep)"
      ],
      "metadata": {
        "id": "fNKdARPPbclp"
      },
      "execution_count": null,
      "outputs": []
    },
    {
      "cell_type": "code",
      "source": [
        "a= int(input(\"Digite o valor de a:\"))\n",
        "b= int(input(\"Digite o valor de b:\"))\n",
        "a,b = b,a\n",
        "print(\"O novo valor de a é:\",a)\n",
        "print(\"O novo valor de b é:\",b)\n",
        "\n",
        "\n",
        "#Outra maneira de resolver tem em outras linguagens de programação\n",
        "#c=a\n",
        "#a=b\n",
        "#b=c"
      ],
      "metadata": {
        "id": "pT67gGSCbzgS"
      },
      "execution_count": null,
      "outputs": []
    },
    {
      "cell_type": "code",
      "source": [
        "valor_uni = float (input(\"Informe o valor unitário: \"))\n",
        "quantidade = int(input(\"Informe a quantidade de produtos: \"))\n",
        "total= valor_uni * quantidade\n",
        "total_round = round(total,2)\n",
        "print(\"O valor inteiro da compra é :\", total_round)"
      ],
      "metadata": {
        "id": "g3kZLYwXiZIR"
      },
      "execution_count": null,
      "outputs": []
    },
    {
      "cell_type": "code",
      "source": [
        "print (\"HELLO\")\n",
        "a = int(input(\"Insira numero: \"))\n",
        "b = a**a\n",
        "print(\"O valor ao quadrado é: \",b)"
      ],
      "metadata": {
        "id": "Dneggz5_NKMX"
      },
      "execution_count": null,
      "outputs": []
    },
    {
      "cell_type": "code",
      "source": [
        "import math\n",
        "\n",
        "numero1= int(input(\"Informe um número inteiro: \"))\n",
        "quadrado1= math.pow(numero1,2) #onde mat.pow(base, expoente)\n",
        "print(\"O quadrado do número informado é: \",quadrado1)\n"
      ],
      "metadata": {
        "id": "285qxD9lZzUF"
      },
      "execution_count": null,
      "outputs": []
    },
    {
      "cell_type": "code",
      "source": [
        "print (pow(27,1/3))"
      ],
      "metadata": {
        "id": "BA2f8VYsby9E"
      },
      "execution_count": null,
      "outputs": []
    },
    {
      "cell_type": "code",
      "source": [
        "print(\"HELLO AGAIN\")\n",
        "firt = input(\"Pressione qualquer letra ou número: \")\n",
        "two = input(\"Novamente: \")\n",
        "print(f\"O usuario digitou: {firt} e {two}\")"
      ],
      "metadata": {
        "id": "z34z7eOqP3Ce"
      },
      "execution_count": null,
      "outputs": []
    },
    {
      "cell_type": "code",
      "source": [
        "print(\"YOU AGAIN!\")\n",
        "numb = int(input(\"Digite um número: \"))\n",
        "ant_num = numb-1\n",
        "pos_numb = numb+1\n",
        "print(f\"Número anterior: {ant_num} o número posterior {pos_numb}\")"
      ],
      "metadata": {
        "id": "P_bE1EJ6SjHG"
      },
      "execution_count": null,
      "outputs": []
    },
    {
      "cell_type": "code",
      "source": [
        "base = float(input(\"Insira o número base do quadrado: \"))\n",
        "altura = float(input(\"Insira o número da altura do quadrado: \"))\n",
        "perimetro = 2 * (base+altura)\n",
        "area = base * altura\n",
        "print(f\"O perimetro do retangulo é: {perimetro}\")\n",
        "print(\"A área do retangulo é: %f\" %{area})\n"
      ],
      "metadata": {
        "id": "KQvbkrOSVtuF"
      },
      "execution_count": null,
      "outputs": []
    },
    {
      "cell_type": "code",
      "source": [
        "valor = float(input(\"Informe o valor da parcela: \"))\n"
      ],
      "metadata": {
        "id": "DZ5Wk4B2j5T6"
      },
      "execution_count": null,
      "outputs": []
    },
    {
      "cell_type": "code",
      "source": [
        "#Exercício\n",
        "n1 = float(input(\"Digite a nota 1: \"))\n",
        "n2 = float(input(\"Digite a nota 2: \"))\n",
        "n3 = float(input(\"Digite a nota 3: \"))\n",
        "\n",
        "media = (n1 + n2 + n3) /3\n",
        "\n",
        "print(f\"A sua nota é: {media:.2f}\")\n",
        "\n"
      ],
      "metadata": {
        "colab": {
          "base_uri": "https://localhost:8080/"
        },
        "id": "t-qQ6Fa8UaT1",
        "outputId": "0da92eb7-b70a-4a70-b336-095a0887e2bf"
      },
      "execution_count": 4,
      "outputs": [
        {
          "output_type": "stream",
          "name": "stdout",
          "text": [
            "Digite a nota 1: 5.5\n",
            "Digite a nota 2: 6\n",
            "Digite a nota 3: 9.5\n",
            "A sua nota é: 7.00\n"
          ]
        }
      ]
    },
    {
      "cell_type": "code",
      "source": [],
      "metadata": {
        "id": "1UoOsQQHWJCH"
      },
      "execution_count": null,
      "outputs": []
    }
  ]
}